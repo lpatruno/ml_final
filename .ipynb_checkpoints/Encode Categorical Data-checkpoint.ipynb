{
 "cells": [
  {
   "cell_type": "code",
   "execution_count": 59,
   "metadata": {
    "collapsed": false
   },
   "outputs": [],
   "source": [
    "from time import time\n",
    "\n",
    "from sklearn.feature_extraction import DictVectorizer as DV\n",
    "from sklearn.cross_validation import train_test_split\n",
    "from sklearn.linear_model import LogisticRegression\n",
    "\n",
    "from get_data import data"
   ]
  },
  {
   "cell_type": "code",
   "execution_count": 43,
   "metadata": {
    "collapsed": false
   },
   "outputs": [],
   "source": [
    "df = data()"
   ]
  },
  {
   "cell_type": "code",
   "execution_count": 48,
   "metadata": {
    "collapsed": true
   },
   "outputs": [],
   "source": [
    "X = df[ [col for col in df if col not in ['label', 'class']]]\n",
    "y = df['class']"
   ]
  },
  {
   "cell_type": "code",
   "execution_count": 51,
   "metadata": {
    "collapsed": false
   },
   "outputs": [],
   "source": [
    "# Convert DataFrame to list of dicts for the DictVectorizer\n",
    "X_dict = X.to_dict(orient='records')\n",
    "\n",
    "# Initialize the DictVectorizer to perform One Hot Encoding\n",
    "vectorizer = DV(sparse=False)\n",
    "# Transform the data to one hot encoding representation\n",
    "X_one_hot = vectorizer.fit_transform( X_dict )"
   ]
  },
  {
   "cell_type": "code",
   "execution_count": 53,
   "metadata": {
    "collapsed": false
   },
   "outputs": [
    {
     "name": "stdout",
     "output_type": "stream",
     "text": [
      "Number of features: 14\n",
      "Number of features after One Hot Encoding: 108\n"
     ]
    }
   ],
   "source": [
    "print 'Number of features: {}'.format(X.shape[1])\n",
    "print 'Number of features after One Hot Encoding: {}'.format(X_one_hot.shape[1])"
   ]
  },
  {
   "cell_type": "code",
   "execution_count": 76,
   "metadata": {
    "collapsed": false
   },
   "outputs": [
    {
     "data": {
      "text/plain": [
       "['age',\n",
       " 'capital-gain',\n",
       " 'capital-loss',\n",
       " 'education-num',\n",
       " 'education=10th',\n",
       " 'education=11th',\n",
       " 'education=12th',\n",
       " 'education=1st-4th',\n",
       " 'education=5th-6th',\n",
       " 'education=7th-8th',\n",
       " 'education=9th',\n",
       " 'education=Assoc-acdm',\n",
       " 'education=Assoc-voc',\n",
       " 'education=Bachelors',\n",
       " 'education=Doctorate',\n",
       " 'education=HS-grad',\n",
       " 'education=Masters',\n",
       " 'education=Preschool',\n",
       " 'education=Prof-school',\n",
       " 'education=Some-college',\n",
       " 'fnlwgt',\n",
       " 'hours-per-week',\n",
       " 'marital-status=Divorced',\n",
       " 'marital-status=Married-AF-spouse',\n",
       " 'marital-status=Married-civ-spouse',\n",
       " 'marital-status=Married-spouse-absent',\n",
       " 'marital-status=Never-married',\n",
       " 'marital-status=Separated',\n",
       " 'marital-status=Widowed',\n",
       " 'native-country=?',\n",
       " 'native-country=Cambodia',\n",
       " 'native-country=Canada',\n",
       " 'native-country=China',\n",
       " 'native-country=Columbia',\n",
       " 'native-country=Cuba',\n",
       " 'native-country=Dominican-Republic',\n",
       " 'native-country=Ecuador',\n",
       " 'native-country=El-Salvador',\n",
       " 'native-country=England',\n",
       " 'native-country=France',\n",
       " 'native-country=Germany',\n",
       " 'native-country=Greece',\n",
       " 'native-country=Guatemala',\n",
       " 'native-country=Haiti',\n",
       " 'native-country=Holand-Netherlands',\n",
       " 'native-country=Honduras',\n",
       " 'native-country=Hong',\n",
       " 'native-country=Hungary',\n",
       " 'native-country=India',\n",
       " 'native-country=Iran',\n",
       " 'native-country=Ireland',\n",
       " 'native-country=Italy',\n",
       " 'native-country=Jamaica',\n",
       " 'native-country=Japan',\n",
       " 'native-country=Laos',\n",
       " 'native-country=Mexico',\n",
       " 'native-country=Nicaragua',\n",
       " 'native-country=Outlying-US(Guam-USVI-etc)',\n",
       " 'native-country=Peru',\n",
       " 'native-country=Philippines',\n",
       " 'native-country=Poland',\n",
       " 'native-country=Portugal',\n",
       " 'native-country=Puerto-Rico',\n",
       " 'native-country=Scotland',\n",
       " 'native-country=South',\n",
       " 'native-country=Taiwan',\n",
       " 'native-country=Thailand',\n",
       " 'native-country=Trinadad&Tobago',\n",
       " 'native-country=United-States',\n",
       " 'native-country=Vietnam',\n",
       " 'native-country=Yugoslavia',\n",
       " 'occupation=?',\n",
       " 'occupation=Adm-clerical',\n",
       " 'occupation=Armed-Forces',\n",
       " 'occupation=Craft-repair',\n",
       " 'occupation=Exec-managerial',\n",
       " 'occupation=Farming-fishing',\n",
       " 'occupation=Handlers-cleaners',\n",
       " 'occupation=Machine-op-inspct',\n",
       " 'occupation=Other-service',\n",
       " 'occupation=Priv-house-serv',\n",
       " 'occupation=Prof-specialty',\n",
       " 'occupation=Protective-serv',\n",
       " 'occupation=Sales',\n",
       " 'occupation=Tech-support',\n",
       " 'occupation=Transport-moving',\n",
       " 'race=Amer-Indian-Eskimo',\n",
       " 'race=Asian-Pac-Islander',\n",
       " 'race=Black',\n",
       " 'race=Other',\n",
       " 'race=White',\n",
       " 'relationship=Husband',\n",
       " 'relationship=Not-in-family',\n",
       " 'relationship=Other-relative',\n",
       " 'relationship=Own-child',\n",
       " 'relationship=Unmarried',\n",
       " 'relationship=Wife',\n",
       " 'sex=Female',\n",
       " 'sex=Male',\n",
       " 'workclass=?',\n",
       " 'workclass=Federal-gov',\n",
       " 'workclass=Local-gov',\n",
       " 'workclass=Never-worked',\n",
       " 'workclass=Private',\n",
       " 'workclass=Self-emp-inc',\n",
       " 'workclass=Self-emp-not-inc',\n",
       " 'workclass=State-gov',\n",
       " 'workclass=Without-pay']"
      ]
     },
     "execution_count": 76,
     "metadata": {},
     "output_type": "execute_result"
    }
   ],
   "source": [
    "vectorizer.get_feature_names()"
   ]
  },
  {
   "cell_type": "code",
   "execution_count": 55,
   "metadata": {
    "collapsed": true
   },
   "outputs": [],
   "source": [
    "# Split into test and train sets\n",
    "X_train, X_test, y_train, y_test = train_test_split(X_one_hot, y, random_state=0)"
   ]
  },
  {
   "cell_type": "code",
   "execution_count": 61,
   "metadata": {
    "collapsed": false
   },
   "outputs": [
    {
     "name": "stdout",
     "output_type": "stream",
     "text": [
      "Time to train classifier: 0.435038805008 seconds\n",
      "Train accuracy: 0.797747747748\n"
     ]
    }
   ],
   "source": [
    "# Instantiate the model estimator\n",
    "classifier = LogisticRegression()\n",
    "\n",
    "# Fit the model to the training data\n",
    "t0 = time()\n",
    "classifier.fit(X_train, y_train)\n",
    "t1 = time()\n",
    "\n",
    "print 'Time to train classifier: {} seconds'.format(t1-t0)\n",
    "\n",
    "# Apply the learned model on unseen data\n",
    "prediction = classifier.predict(X_test)\n",
    "\n",
    "print 'Train accuracy: {}'.format(classifier.score(X_train, y_train))"
   ]
  },
  {
   "cell_type": "markdown",
   "metadata": {},
   "source": [
    "## Automate above procedure"
   ]
  },
  {
   "cell_type": "code",
   "execution_count": 66,
   "metadata": {
    "collapsed": true
   },
   "outputs": [],
   "source": [
    "def log_reg(df, cols):\n",
    "    X = df[cols]\n",
    "    y = df['class']\n",
    "    \n",
    "    # Convert DataFrame to list of dicts for the DictVectorizer\n",
    "    X_dict = X.to_dict(orient='records')\n",
    "\n",
    "    # Initialize the DictVectorizer to perform One Hot Encoding\n",
    "    vectorizer = DV(sparse=False)\n",
    "    # Transform the data to one hot encoding representation\n",
    "    X_one_hot = vectorizer.fit_transform( X_dict )\n",
    "    \n",
    "    # Split into test and train sets\n",
    "    X_train, X_test, y_train, y_test = train_test_split(X_one_hot, y, random_state=0)\n",
    "    \n",
    "    # Instantiate the model estimator\n",
    "    classifier = LogisticRegression()\n",
    "\n",
    "    # Fit the model to the training data\n",
    "    t0 = time()\n",
    "    classifier.fit(X_train, y_train)\n",
    "    t1 = time()\n",
    "    \n",
    "    train_error = (1 - classifier.score(X_train, y_train))\n",
    "    test_error = (1 - classifier.score(X_test, y_test))\n",
    "\n",
    "    print\n",
    "    print 'Test error: {}'.format(test_error)\n",
    "    print 'Train error: {}'.format(train_error)\n",
    "    print 'Time to train: {} seconds'.format(t1-t0)"
   ]
  },
  {
   "cell_type": "code",
   "execution_count": 67,
   "metadata": {
    "collapsed": false
   },
   "outputs": [
    {
     "name": "stdout",
     "output_type": "stream",
     "text": [
      "\n",
      "Test error: 0.25758506326\n",
      "Train error: 0.25171990172\n",
      "Time to train: 0.0858459472656 seconds\n"
     ]
    }
   ],
   "source": [
    "log_reg(df, ['age'])"
   ]
  },
  {
   "cell_type": "code",
   "execution_count": 68,
   "metadata": {
    "collapsed": false
   },
   "outputs": [
    {
     "name": "stdout",
     "output_type": "stream",
     "text": [
      "\n",
      "Test error: 0.219629038202\n",
      "Train error: 0.22067977068\n",
      "Time to train: 0.127322912216 seconds\n"
     ]
    }
   ],
   "source": [
    "log_reg(df, ['education'])"
   ]
  },
  {
   "cell_type": "code",
   "execution_count": 69,
   "metadata": {
    "collapsed": false
   },
   "outputs": [
    {
     "name": "stdout",
     "output_type": "stream",
     "text": [
      "\n",
      "Test error: 0.218646357941\n",
      "Train error: 0.217772317772\n",
      "Time to train: 0.0922818183899 seconds\n"
     ]
    }
   ],
   "source": [
    "log_reg(df, ['age', 'education'])"
   ]
  },
  {
   "cell_type": "code",
   "execution_count": 70,
   "metadata": {
    "collapsed": false
   },
   "outputs": [
    {
     "name": "stdout",
     "output_type": "stream",
     "text": [
      "\n",
      "Test error: 0.243459034517\n",
      "Train error: 0.239926289926\n",
      "Time to train: 0.101222038269 seconds\n"
     ]
    }
   ],
   "source": [
    "log_reg(df, ['occupation'])"
   ]
  },
  {
   "cell_type": "code",
   "execution_count": 71,
   "metadata": {
    "collapsed": false
   },
   "outputs": [
    {
     "name": "stdout",
     "output_type": "stream",
     "text": [
      "\n",
      "Test error: 0.235229087336\n",
      "Train error: 0.229934479934\n",
      "Time to train: 0.138720989227 seconds\n"
     ]
    }
   ],
   "source": [
    "log_reg(df, ['occupation', 'age'])"
   ]
  },
  {
   "cell_type": "code",
   "execution_count": 72,
   "metadata": {
    "collapsed": false
   },
   "outputs": [
    {
     "name": "stdout",
     "output_type": "stream",
     "text": [
      "\n",
      "Test error: 0.210170740695\n",
      "Train error: 0.207534807535\n",
      "Time to train: 0.104037046432 seconds\n"
     ]
    }
   ],
   "source": [
    "log_reg(df, ['occupation', 'age', 'education'])"
   ]
  },
  {
   "cell_type": "code",
   "execution_count": 75,
   "metadata": {
    "collapsed": false
   },
   "outputs": [
    {
     "name": "stdout",
     "output_type": "stream",
     "text": [
      "\n",
      "Test error: 0.205503009458\n",
      "Train error: 0.203849303849\n",
      "Time to train: 0.0964479446411 seconds\n"
     ]
    }
   ],
   "source": [
    "log_reg(df, ['occupation', 'age', 'sex'])"
   ]
  },
  {
   "cell_type": "code",
   "execution_count": null,
   "metadata": {
    "collapsed": true
   },
   "outputs": [],
   "source": [
    "from sklearn.feature_selection import RFECV\n",
    "\n",
    "estimator = LogisticRegression()\n",
    "\n",
    "selector = RFECV(estimator, step=1, cv=5)\n",
    "selector = selector.fit(X, y)"
   ]
  }
 ],
 "metadata": {
  "kernelspec": {
   "display_name": "Python 2",
   "language": "python",
   "name": "python2"
  },
  "language_info": {
   "codemirror_mode": {
    "name": "ipython",
    "version": 2
   },
   "file_extension": ".py",
   "mimetype": "text/x-python",
   "name": "python",
   "nbconvert_exporter": "python",
   "pygments_lexer": "ipython2",
   "version": "2.7.9"
  }
 },
 "nbformat": 4,
 "nbformat_minor": 0
}
