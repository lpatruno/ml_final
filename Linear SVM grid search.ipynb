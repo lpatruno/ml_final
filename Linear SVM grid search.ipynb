{
 "cells": [
  {
   "cell_type": "code",
   "execution_count": 1,
   "metadata": {
    "collapsed": true
   },
   "outputs": [],
   "source": [
    "from time import time\n",
    "\n",
    "import numpy as np\n",
    "\n",
    "from sklearn.cross_validation import train_test_split\n",
    "from sklearn.grid_search import ParameterGrid\n",
    "from sklearn.feature_extraction import DictVectorizer as DV\n",
    "from sklearn.svm import SVC\n",
    "\n",
    "from get_data import data"
   ]
  },
  {
   "cell_type": "code",
   "execution_count": 2,
   "metadata": {
    "collapsed": true
   },
   "outputs": [],
   "source": [
    "df = data()"
   ]
  },
  {
   "cell_type": "code",
   "execution_count": 3,
   "metadata": {
    "collapsed": true
   },
   "outputs": [],
   "source": [
    "X = df[ [col for col in df if col not in ['class']]]\n",
    "y = df['class'].values\n",
    "\n",
    "# Binarize the categorical data using a DictVectorizer\n",
    "# This requires the data be fed in the form of Python dicts\n",
    "vectorizer = DV(sparse=False)\n",
    "X_binarized = vectorizer.fit_transform( X.to_dict(orient='records') )\n",
    "\n",
    "\n",
    "# Split into test and train sets\n",
    "X_train, X_test, y_train, y_test = train_test_split(X_binarized, y, train_size=.8, random_state=42)"
   ]
  },
  {
   "cell_type": "code",
   "execution_count": 5,
   "metadata": {
    "collapsed": false
   },
   "outputs": [],
   "source": [
    "param_grid = list(ParameterGrid({'C': [1, 10, 100, 1000], 'kernel': ['rbf']}))"
   ]
  },
  {
   "cell_type": "code",
   "execution_count": 6,
   "metadata": {
    "collapsed": false
   },
   "outputs": [
    {
     "name": "stdout",
     "output_type": "stream",
     "text": [
      "\n",
      "Test error: 0.246737294641 Time to train: 245.705627918\n",
      "Params: {'kernel': 'rbf', 'C': 1}\n",
      "\n",
      "Test error: 0.256870873637 Time to train: 306.675590038\n",
      "Params: {'kernel': 'rbf', 'C': 10}\n",
      "\n",
      "Test error: 0.257638569016 Time to train: 303.641685009\n",
      "Params: {'kernel': 'rbf', 'C': 100}\n",
      "\n",
      "Test error: 0.257638569016 Time to train: 326.941473961\n",
      "Params: {'kernel': 'rbf', 'C': 1000}\n"
     ]
    }
   ],
   "source": [
    "for params in param_grid:\n",
    "    \n",
    "    classifier = SVC(**params)\n",
    "\n",
    "    # Fit the model to the training data\n",
    "    t0 = time()\n",
    "    classifier.fit(X_train, y_train)\n",
    "    t1 = time()\n",
    "\n",
    "    accuracy = classifier.score(X_test, y_test)\n",
    "    error = (1 - accuracy)\n",
    "\n",
    "    print '\\nTest error: {} Time to train: {}'.format(error, (t1-t0))\n",
    "    print 'Params: {}'.format(params)"
   ]
  },
  {
   "cell_type": "code",
   "execution_count": 8,
   "metadata": {
    "collapsed": true
   },
   "outputs": [],
   "source": [
    "param_grid = list(ParameterGrid({'C': np.linspace(.1,.9, 9).tolist(), 'kernel': ['rbf']}))"
   ]
  },
  {
   "cell_type": "code",
   "execution_count": 9,
   "metadata": {
    "collapsed": false
   },
   "outputs": [
    {
     "name": "stdout",
     "output_type": "stream",
     "text": [
      "\n",
      "Test error: 0.241209887916 Time to train: 198.407383204\n",
      "Params: {'kernel': 'rbf', 'C': 0.1}\n",
      "\n",
      "Test error: 0.241209887916 Time to train: 229.189439058\n",
      "Params: {'kernel': 'rbf', 'C': 0.2}\n",
      "\n",
      "Test error: 0.241209887916 Time to train: 231.348419905\n",
      "Params: {'kernel': 'rbf', 'C': 0.30000000000000004}\n",
      "\n",
      "Test error: 0.240595731614 Time to train: 337.798237085\n",
      "Params: {'kernel': 'rbf', 'C': 0.4}\n",
      "\n",
      "Test error: 0.240288653462 Time to train: 260.568063021\n",
      "Params: {'kernel': 'rbf', 'C': 0.5}\n",
      "\n",
      "Test error: 0.23967449716 Time to train: 213.04496789\n",
      "Params: {'kernel': 'rbf', 'C': 0.6}\n",
      "\n",
      "Test error: 0.239367419008 Time to train: 215.627848864\n",
      "Params: {'kernel': 'rbf', 'C': 0.7000000000000001}\n",
      "\n",
      "Test error: 0.240595731614 Time to train: 217.814664125\n",
      "Params: {'kernel': 'rbf', 'C': 0.8}\n",
      "\n",
      "Test error: 0.244127130355 Time to train: 218.145750999\n",
      "Params: {'kernel': 'rbf', 'C': 0.9}\n"
     ]
    }
   ],
   "source": [
    "for params in param_grid:\n",
    "    \n",
    "    classifier = SVC(**params)\n",
    "\n",
    "    # Fit the model to the training data\n",
    "    t0 = time()\n",
    "    classifier.fit(X_train, y_train)\n",
    "    t1 = time()\n",
    "\n",
    "    accuracy = classifier.score(X_test, y_test)\n",
    "    error = (1 - accuracy)\n",
    "\n",
    "    print '\\nTest error: {} Time to train: {}'.format(error, (t1-t0))\n",
    "    print 'Params: {}'.format(params)"
   ]
  },
  {
   "cell_type": "code",
   "execution_count": null,
   "metadata": {
    "collapsed": true
   },
   "outputs": [],
   "source": []
  }
 ],
 "metadata": {
  "kernelspec": {
   "display_name": "Python 2",
   "language": "python",
   "name": "python2"
  },
  "language_info": {
   "codemirror_mode": {
    "name": "ipython",
    "version": 2
   },
   "file_extension": ".py",
   "mimetype": "text/x-python",
   "name": "python",
   "nbconvert_exporter": "python",
   "pygments_lexer": "ipython2",
   "version": "2.7.10"
  }
 },
 "nbformat": 4,
 "nbformat_minor": 0
}
