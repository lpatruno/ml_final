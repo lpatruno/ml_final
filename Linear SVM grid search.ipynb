{
 "cells": [
  {
   "cell_type": "code",
   "execution_count": 15,
   "metadata": {
    "collapsed": true
   },
   "outputs": [],
   "source": [
    "from time import time\n",
    "\n",
    "import numpy as np\n",
    "\n",
    "from sklearn.cross_validation import train_test_split\n",
    "from sklearn.grid_search import ParameterGrid\n",
    "from sklearn.feature_extraction import DictVectorizer as DV\n",
    "from sklearn.svm import SVC\n",
    "\n",
    "from get_data import data"
   ]
  },
  {
   "cell_type": "code",
   "execution_count": 16,
   "metadata": {
    "collapsed": true
   },
   "outputs": [],
   "source": [
    "df = data()"
   ]
  },
  {
   "cell_type": "code",
   "execution_count": 17,
   "metadata": {
    "collapsed": true
   },
   "outputs": [],
   "source": [
    "X = df[ [col for col in df if col not in ['class']]]\n",
    "y = df['class'].values\n",
    "\n",
    "# Binarize the categorical data using a DictVectorizer\n",
    "# This requires the data be fed in the form of Python dicts\n",
    "vectorizer = DV(sparse=False)\n",
    "X_binarized = vectorizer.fit_transform( X.to_dict(orient='records') )\n",
    "\n",
    "\n",
    "# Split into test and train sets\n",
    "X_train, X_test, y_train, y_test = train_test_split(X_binarized, y, train_size=.8, random_state=42)"
   ]
  },
  {
   "cell_type": "code",
   "execution_count": 18,
   "metadata": {
    "collapsed": false
   },
   "outputs": [],
   "source": [
    "param_grid = list(ParameterGrid({'C': [1, 10, 100, 1000], 'kernel': ['linear', 'rbf']}))"
   ]
  },
  {
   "cell_type": "code",
   "execution_count": null,
   "metadata": {
    "collapsed": false
   },
   "outputs": [],
   "source": [
    "for params in param_grid:\n",
    "    \n",
    "    classifier = SVC(**params)\n",
    "\n",
    "    # Fit the model to the training data\n",
    "    t0 = time()\n",
    "    classifier.fit(X_train, y_train)\n",
    "    t1 = time()\n",
    "\n",
    "    accuracy = classifier.score(X_test, y_test)\n",
    "    error = (1 - accuracy)\n",
    "\n",
    "    print '\\nTest error: {} Time to train: {}'.format(error, (t1-t0))\n",
    "    print 'Params: {}'.format(params)"
   ]
  },
  {
   "cell_type": "code",
   "execution_count": null,
   "metadata": {
    "collapsed": true
   },
   "outputs": [],
   "source": []
  }
 ],
 "metadata": {
  "kernelspec": {
   "display_name": "Python 2",
   "language": "python",
   "name": "python2"
  },
  "language_info": {
   "codemirror_mode": {
    "name": "ipython",
    "version": 2
   },
   "file_extension": ".py",
   "mimetype": "text/x-python",
   "name": "python",
   "nbconvert_exporter": "python",
   "pygments_lexer": "ipython2",
   "version": "2.7.10"
  }
 },
 "nbformat": 4,
 "nbformat_minor": 0
}
