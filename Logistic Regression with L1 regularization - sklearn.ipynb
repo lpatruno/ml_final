{
 "cells": [
  {
   "cell_type": "code",
   "execution_count": 30,
   "metadata": {
    "collapsed": true
   },
   "outputs": [],
   "source": [
    "from time import time\n",
    "\n",
    "import numpy as np\n",
    "from sklearn.cross_validation import train_test_split\n",
    "from sklearn.feature_extraction import DictVectorizer as DV\n",
    "from sklearn.linear_model import LogisticRegression as sk_Logistic\n",
    "from sklearn import grid_search\n",
    "\n",
    "from get_data import data\n",
    "from logisticregression import LogisticRegression "
   ]
  },
  {
   "cell_type": "code",
   "execution_count": 2,
   "metadata": {
    "collapsed": true
   },
   "outputs": [],
   "source": [
    "df = data()"
   ]
  },
  {
   "cell_type": "code",
   "execution_count": 3,
   "metadata": {
    "collapsed": true
   },
   "outputs": [],
   "source": [
    "X = df[ [col for col in df if col not in ['label', 'class']]]\n",
    "y = df['class'].values"
   ]
  },
  {
   "cell_type": "code",
   "execution_count": 4,
   "metadata": {
    "collapsed": false
   },
   "outputs": [],
   "source": [
    "# Initialize the DictVectorizer to perform One Hot Encoding\n",
    "vectorizer = DV(sparse=False)\n",
    "# Transform the data to one hot encoding representation\n",
    "X_one_hot = vectorizer.fit_transform( X.to_dict(orient='records') )\n",
    "\n",
    "# Set the random_state for repeatability\n",
    "X_train, X_test, y_train, y_test = train_test_split(X_one_hot, y)#, random_state=0)"
   ]
  },
  {
   "cell_type": "code",
   "execution_count": 51,
   "metadata": {
    "collapsed": false
   },
   "outputs": [
    {
     "name": "stdout",
     "output_type": "stream",
     "text": [
      "Total time: 962.779297829\n"
     ]
    }
   ],
   "source": [
    "parameters = {'C':np.linspace(.1, 10, 100), 'max_iter':[1,50,100], 'penalty':['l2', 'l1']}\n",
    "\n",
    "model = sk_Logistic()\n",
    "\n",
    "\n",
    "clf = grid_search.GridSearchCV(model, parameters, cv=5)\n",
    "\n",
    "t0 = time()\n",
    "clf.fit(X_train, y_train)\n",
    "t1 = time()\n",
    "\n",
    "print 'Total time: {}'.format(t1-t0)"
   ]
  },
  {
   "cell_type": "code",
   "execution_count": 58,
   "metadata": {
    "collapsed": false
   },
   "outputs": [
    {
     "name": "stdout",
     "output_type": "stream",
     "text": [
      "Best params: {'penalty': 'l1', 'C': 3.6000000000000001, 'max_iter': 50}\n",
      "Best score: 0.852293202293\n"
     ]
    }
   ],
   "source": [
    "print 'Best params: {}'.format(clf.best_params_)\n",
    "print 'Best score: {}'.format(clf.best_score_)"
   ]
  },
  {
   "cell_type": "code",
   "execution_count": 59,
   "metadata": {
    "collapsed": true
   },
   "outputs": [],
   "source": [
    "with open('l1_logistic_regression_cv.text', 'w') as f:\n",
    "    \n",
    "    for scores in clf.grid_scores_:\n",
    "        f.write('{}\\n'.format(scores))"
   ]
  }
 ],
 "metadata": {
  "kernelspec": {
   "display_name": "Python 2",
   "language": "python",
   "name": "python2"
  },
  "language_info": {
   "codemirror_mode": {
    "name": "ipython",
    "version": 2
   },
   "file_extension": ".py",
   "mimetype": "text/x-python",
   "name": "python",
   "nbconvert_exporter": "python",
   "pygments_lexer": "ipython2",
   "version": "2.7.9"
  }
 },
 "nbformat": 4,
 "nbformat_minor": 0
}
