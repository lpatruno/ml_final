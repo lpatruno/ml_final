{
 "cells": [
  {
   "cell_type": "code",
   "execution_count": 110,
   "metadata": {
    "collapsed": true
   },
   "outputs": [],
   "source": [
    "from sklearn.cross_validation import train_test_split\n",
    "from sklearn.linear_model import LogisticRegression\n",
    "from sklearn.svm import SVC\n",
    "from sklearn.preprocessing import LabelEncoder"
   ]
  },
  {
   "cell_type": "code",
   "execution_count": 97,
   "metadata": {
    "collapsed": true
   },
   "outputs": [],
   "source": [
    "from time import time\n",
    "import numpy as np\n",
    "import pandas as pd\n",
    "import matplotlib.pyplot as plt\n",
    "from get_data import data"
   ]
  },
  {
   "cell_type": "code",
   "execution_count": 3,
   "metadata": {
    "collapsed": true
   },
   "outputs": [],
   "source": [
    "# Load the data set\n",
    "df = data()"
   ]
  },
  {
   "cell_type": "markdown",
   "metadata": {},
   "source": [
    "## Logistic Regression\n",
    "   * Features: age"
   ]
  },
  {
   "cell_type": "code",
   "execution_count": 106,
   "metadata": {
    "collapsed": true
   },
   "outputs": [],
   "source": [
    "X_1 = np.array(df[['age']])\n",
    "y_2 = np.array(df['class'])\n",
    "\n",
    "# Split the data into training and testing set\n",
    "# default split is 75% for training, 25% for testing\n",
    "\n",
    "# Set the random_state for repeatability\n",
    "X_train, X_test, y_train, y_test = train_test_split(X_1, y_2, random_state=0)"
   ]
  },
  {
   "cell_type": "code",
   "execution_count": 107,
   "metadata": {
    "collapsed": false
   },
   "outputs": [
    {
     "name": "stdout",
     "output_type": "stream",
     "text": [
      "Time to train classifier: 0.0745720863342 seconds\n",
      "\n",
      "Test accuracy: 0.74241493674\n",
      "Test error: 0.25758506326\n",
      "\n",
      "Train accuracy: 0.74828009828\n"
     ]
    }
   ],
   "source": [
    "# Instantiate the model estimator\n",
    "classifier = LogisticRegression()\n",
    "\n",
    "# Fit the model to the training data\n",
    "t0 = time()\n",
    "classifier.fit(X_train, y_train)\n",
    "t1 = time()\n",
    "\n",
    "print 'Time to train classifier: {} seconds'.format(t1-t0)\n",
    "\n",
    "# Apply the learned model on unseen data\n",
    "prediction = classifier.predict(X_test)\n",
    "\n",
    "accuracy = classifier.score(X_test, y_test)\n",
    "error = (1 - accuracy)\n",
    "\n",
    "print\n",
    "print 'Test accuracy: {}'.format(accuracy)\n",
    "print 'Test error: {}'.format(error)\n",
    "\n",
    "print\n",
    "print 'Train accuracy: {}'.format(classifier.score(X_train, y_train))\n",
    "\n",
    "# View the learned coefficients and the intercept\n",
    "#print(classifier.coef_)\n",
    "#print(classifier.intercept_)"
   ]
  },
  {
   "cell_type": "markdown",
   "metadata": {},
   "source": [
    "## Support Vector Machine classifier\n",
    "   * Linear kernel\n",
    "   * Features: age"
   ]
  },
  {
   "cell_type": "code",
   "execution_count": 108,
   "metadata": {
    "collapsed": false
   },
   "outputs": [
    {
     "name": "stdout",
     "output_type": "stream",
     "text": [
      "Time to train classifier: 72.3741388321 seconds\n",
      "\n",
      "Test accuracy: 0.756540965483\n",
      "Test error: 0.243459034517\n",
      "\n",
      "Train accuracy: 0.760073710074\n"
     ]
    }
   ],
   "source": [
    "classifier = SVC(kernel='linear')\n",
    "\n",
    "# Fit the model to the training data\n",
    "t0 = time()\n",
    "classifier.fit(X_train, y_train)\n",
    "t1 = time()\n",
    "\n",
    "print 'Time to train classifier: {} seconds'.format(t1-t0)\n",
    "\n",
    "# Apply the learned model on unseen data\n",
    "prediction = classifier.predict(X_test)\n",
    "\n",
    "accuracy = classifier.score(X_test, y_test)\n",
    "error = (1 - accuracy)\n",
    "\n",
    "print\n",
    "print 'Test accuracy: {}'.format(accuracy)\n",
    "print 'Test error: {}'.format(error)\n",
    "\n",
    "print\n",
    "print 'Train accuracy: {}'.format(classifier.score(X_train, y_train))\n",
    "\n",
    "# View the learned coefficients and the intercept\n",
    "#print(classifier.coef_)\n",
    "#print(classifier.intercept_)"
   ]
  },
  {
   "cell_type": "markdown",
   "metadata": {},
   "source": [
    "## Logistic Regression\n",
    "   * Features: age, education"
   ]
  },
  {
   "cell_type": "code",
   "execution_count": 119,
   "metadata": {
    "collapsed": false
   },
   "outputs": [],
   "source": [
    "# Encode the education feature\n",
    "\n",
    "model_2 = df[['age', 'education', 'class']].copy()\n",
    "\n",
    "X_2 = model_2[['age', 'education']]\n",
    "y_2 = np.array(model_2['class'])\n",
    "\n",
    "encode_education = LabelEncoder()\n",
    "X_2.loc[:,'education'] = encode_education.fit_transform(X_2.education)\n",
    "\n",
    "# Turn the data into a numpy array\n",
    "X_2 = np.array(X_2)"
   ]
  },
  {
   "cell_type": "code",
   "execution_count": 120,
   "metadata": {
    "collapsed": true
   },
   "outputs": [],
   "source": [
    "# Split the data into training and testing set\n",
    "# default split is 75% for training, 25% for testing\n",
    "\n",
    "# Set the random_state for repeatability\n",
    "X_train, X_test, y_train, y_test = train_test_split(X_2, y_2, random_state=0)"
   ]
  },
  {
   "cell_type": "code",
   "execution_count": 121,
   "metadata": {
    "collapsed": false
   },
   "outputs": [
    {
     "name": "stdout",
     "output_type": "stream",
     "text": [
      "Time to train classifier: 0.11106300354 seconds\n",
      "\n",
      "Test accuracy: 0.743151946935\n",
      "Test error: 0.256848053065\n",
      "\n",
      "Train accuracy: 0.74696969697\n"
     ]
    }
   ],
   "source": [
    "# Instantiate the model estimator\n",
    "classifier = LogisticRegression()\n",
    "\n",
    "# Fit the model to the training data\n",
    "t0 = time()\n",
    "classifier.fit(X_train, y_train)\n",
    "t1 = time()\n",
    "\n",
    "print 'Time to train classifier: {} seconds'.format(t1-t0)\n",
    "\n",
    "# Apply the learned model on unseen data\n",
    "prediction = classifier.predict(X_test)\n",
    "\n",
    "accuracy = classifier.score(X_test, y_test)\n",
    "error = (1 - accuracy)\n",
    "\n",
    "print\n",
    "print 'Test accuracy: {}'.format(accuracy)\n",
    "print 'Test error: {}'.format(error)\n",
    "\n",
    "print\n",
    "print 'Train accuracy: {}'.format(classifier.score(X_train, y_train))\n",
    "\n",
    "# View the learned coefficients and the intercept\n",
    "#print(classifier.coef_)\n",
    "#print(classifier.intercept_)"
   ]
  },
  {
   "cell_type": "code",
   "execution_count": 122,
   "metadata": {
    "collapsed": false
   },
   "outputs": [
    {
     "name": "stdout",
     "output_type": "stream",
     "text": [
      "Time to train classifier: 128.640893936 seconds\n",
      "\n",
      "Test accuracy: 0.756540965483\n",
      "Test error: 0.243459034517\n",
      "\n",
      "Train accuracy: 0.760073710074\n"
     ]
    }
   ],
   "source": [
    "classifier = SVC(kernel='rbf')\n",
    "\n",
    "# Fit the model to the training data\n",
    "t0 = time()\n",
    "classifier.fit(X_train, y_train)\n",
    "t1 = time()\n",
    "\n",
    "print 'Time to train classifier: {} seconds'.format(t1-t0)\n",
    "\n",
    "# Apply the learned model on unseen data\n",
    "prediction = classifier.predict(X_test)\n",
    "\n",
    "accuracy = classifier.score(X_test, y_test)\n",
    "error = (1 - accuracy)\n",
    "\n",
    "print\n",
    "print 'Test error: {}'.format(error)"
   ]
  }
 ],
 "metadata": {
  "kernelspec": {
   "display_name": "Python 2",
   "language": "python",
   "name": "python2"
  },
  "language_info": {
   "codemirror_mode": {
    "name": "ipython",
    "version": 2
   },
   "file_extension": ".py",
   "mimetype": "text/x-python",
   "name": "python",
   "nbconvert_exporter": "python",
   "pygments_lexer": "ipython2",
   "version": "2.7.10"
  }
 },
 "nbformat": 4,
 "nbformat_minor": 0
}
